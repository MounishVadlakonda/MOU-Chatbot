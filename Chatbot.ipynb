{
  "cells": [
    {
      "cell_type": "markdown",
      "source": [
        "## **MOU - Chatbot** "
      ],
      "metadata": {
        "id": "0rtOH9R1SLqW"
      }
    },
    {
      "cell_type": "code",
      "execution_count": null,
      "metadata": {
        "id": "A3wJElvkKq1h"
      },
      "outputs": [],
      "source": [
        "import io\n",
        "import random\n",
        "import string # to process standard python strings\n",
        "import warnings\n",
        "import numpy as np\n",
        "from sklearn.feature_extraction.text import TfidfVectorizer\n",
        "from sklearn.metrics.pairwise import cosine_similarity\n",
        "import warnings\n",
        "warnings.filterwarnings('ignore')\n",
        "import threading as th\n"
      ]
    },
    {
      "cell_type": "code",
      "execution_count": null,
      "metadata": {
        "colab": {
          "base_uri": "https://localhost:8080/"
        },
        "id": "q-_mIJFGKq1r",
        "outputId": "3f573119-1a8c-4f11-9838-d35682b62467"
      },
      "outputs": [
        {
          "output_type": "execute_result",
          "data": {
            "text/plain": [
              "True"
            ]
          },
          "metadata": {},
          "execution_count": 2
        }
      ],
      "source": [
        "import nltk\n",
        "from nltk.stem import WordNetLemmatizer\n",
        "nltk.download('popular', quiet=True) # for downloading packages\n",
        "#nltk.download('punkt') # first-time use only\n",
        "#nltk.download('wordnet') # first-time use only"
      ]
    },
    {
      "cell_type": "code",
      "execution_count": null,
      "metadata": {
        "id": "ypQLCfG1Kq11"
      },
      "outputs": [],
      "source": [
        "f=open('/content/sample_data/chatbot.txt','r',errors = 'ignore')\n",
        "raw=f.read()\n",
        "raw = raw.lower()# converts to lowercase"
      ]
    },
    {
      "cell_type": "code",
      "execution_count": null,
      "metadata": {
        "id": "hh-2XFwvKq14"
      },
      "outputs": [],
      "source": [
        "sent_tokens = nltk.sent_tokenize(raw)# converts to list of sentences \n",
        "word_tokens = nltk.word_tokenize(raw)# converts to list of words"
      ]
    },
    {
      "cell_type": "code",
      "execution_count": null,
      "metadata": {
        "id": "CIWFnPSFKq15"
      },
      "outputs": [],
      "source": [
        "lemmer = nltk.stem.WordNetLemmatizer()\n",
        "#WordNet is a semantically-oriented dictionary of English included in NLTK.\n",
        "def LemTokens(tokens):\n",
        "    return [lemmer.lemmatize(token) for token in tokens]\n",
        "remove_punct_dict = dict((ord(punct), None) for punct in string.punctuation)\n",
        "\n",
        "def LemNormalize(text):\n",
        "    return LemTokens(nltk.word_tokenize(text.lower().translate(remove_punct_dict)))"
      ]
    },
    {
      "cell_type": "code",
      "execution_count": null,
      "metadata": {
        "id": "Yf2kIbGvKq17"
      },
      "outputs": [],
      "source": [
        "GREETING_INPUTS = (\"hello\", \"hi\", \"greetings\", \"sup\", \"what's up\",\"hey\",)\n",
        "GREETING_RESPONSES = [\"hi\", \"hey\", \"*nods*\", \"hi there\", \"hello\", \"I am glad! You are talking to me\"]\n",
        "def greeting(sentence):\n",
        " \n",
        "    for word in sentence.split():\n",
        "        if word.lower() in GREETING_INPUTS:\n",
        "            return random.choice(GREETING_RESPONSES)"
      ]
    },
    {
      "cell_type": "code",
      "execution_count": null,
      "metadata": {
        "id": "AGgqj-NNKq18"
      },
      "outputs": [],
      "source": [
        "def response(user_response):\n",
        "    robo_response=''\n",
        "    sent_tokens.append(user_response)\n",
        "    TfidfVec = TfidfVectorizer(tokenizer=LemNormalize, stop_words='english')\n",
        "    tfidf = TfidfVec.fit_transform(sent_tokens)\n",
        "    vals = cosine_similarity(tfidf[-1], tfidf)\n",
        "    idx=vals.argsort()[0][-2]\n",
        "    flat = vals.flatten()\n",
        "    flat.sort()\n",
        "    req_tfidf = flat[-2]\n",
        "    if(req_tfidf==0):\n",
        "        robo_response=robo_response+\"I am sorry! I don't understand you\"\n",
        "        return robo_response\n",
        "    else:\n",
        "        robo_response = robo_response+sent_tokens[idx]\n",
        "        return robo_response\n",
        "\n"
      ]
    },
    {
      "cell_type": "code",
      "execution_count": null,
      "metadata": {
        "colab": {
          "base_uri": "https://localhost:8080/"
        },
        "id": "fIVEfk1LKq19",
        "outputId": "3929605f-86ad-4bb5-a66e-ccbd7f8cfd05"
      },
      "outputs": [
        {
          "output_type": "stream",
          "name": "stdout",
          "text": [
            "Mou: My name is Mou. I will answer your queries about Excercise. If you want to exit, type bye!\n",
            "you:hi\n",
            "Mou: I am glad! You are talking to me\n",
            "you:chatbot\n",
            "Mou: you:k\n",
            "Mou: I am sorry! I don't understand you\n",
            "you:k\n",
            "Mou: I am sorry! I don't understand you\n",
            "you:\n",
            "Mou: I cannot understand you, Please contact to our Human representative\n",
            "you:k\n",
            "Mou: I am sorry! I don't understand you\n",
            "Timeout, Plase restart the chat if you have any further queries\n",
            "you:l\n",
            "Mou: I am sorry! I don't understand you\n"
          ]
        }
      ],
      "source": [
        "print(\"Mou: My name is Mou. I will answer your queries about Excercise. If you want to exit, type bye!\")\n",
        "def inputtime():\n",
        "    global flag\n",
        "    flag = False\n",
        "    print(\"Timeout, Plase restart the chat if you have any further queries\")\n",
        "    exit()\n",
        "user_response = ''\n",
        "flag=True\n",
        "didnotunderstandcount=0\n",
        "while(flag==True):\n",
        "    T = th.Timer(11.0, inputtime)\n",
        "    T.start()\n",
        "    user_response = input(\"you:\")\n",
        "    T.cancel()\n",
        "    user_response = user_response.lower()\n",
        "    if(user_response!='bye'):\n",
        "        if(user_response=='thanks' or user_response=='thank you' ):\n",
        "            flag=False\n",
        "            print(\"Mou: You are welcome..\")\n",
        "        else:\n",
        "            if(greeting(user_response)!=None):\n",
        "                print(\"Mou: \"+greeting(user_response))\n",
        "            else:\n",
        "                print(\"Mou: \",end=\"\")\n",
        "                res = response(user_response)\n",
        "                if res == \"I am sorry! I don't understand you\":\n",
        "                    didnotunderstandcount+=1\n",
        "                    if didnotunderstandcount==3:\n",
        "                        print(\"I cannot understand you, Please contact to our Human representative\")\n",
        "                    else:print(res)\n",
        "                elif didnotunderstandcount:\n",
        "                    didnotunderstandcount = 0\n",
        "                sent_tokens.remove(user_response)\n",
        "    else:\n",
        "        flag=False\n",
        "        print(\"Mou: Bye! take care..\")"
      ]
    },
    {
      "cell_type": "code",
      "execution_count": null,
      "metadata": {
        "id": "RCvU8ocIKq19"
      },
      "outputs": [],
      "source": [
        ""
      ]
    }
  ],
  "metadata": {
    "kernelspec": {
      "display_name": "Python 3",
      "language": "python",
      "name": "python3"
    },
    "language_info": {
      "codemirror_mode": {
        "name": "ipython",
        "version": 3
      },
      "file_extension": ".py",
      "mimetype": "text/x-python",
      "name": "python",
      "nbconvert_exporter": "python",
      "pygments_lexer": "ipython3",
      "version": "3.7.3"
    },
    "colab": {
      "name": "Chatbot.ipynb",
      "provenance": []
    }
  },
  "nbformat": 4,
  "nbformat_minor": 0
}